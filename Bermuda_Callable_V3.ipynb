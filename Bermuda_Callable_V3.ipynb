{
 "cells": [
  {
   "cell_type": "code",
   "execution_count": 220,
   "metadata": {},
   "outputs": [],
   "source": [
    "import pandas as pd\n",
    "import numpy as np\n",
    "from math import exp, log, sqrt, pi\n",
    "import matplotlib.pyplot as plt\n",
    "from scipy.stats import norm\n",
    "import time"
   ]
  },
  {
   "cell_type": "code",
   "execution_count": 235,
   "metadata": {},
   "outputs": [],
   "source": [
    "def direction(dt):\n",
    "    u = np.exp(sigma*sqrt(dt) - 0.5*sigma*sigma*dt)\n",
    "    d = np.exp(-sigma*sqrt(dt) - 0.5*sigma*sigma*dt)\n",
    "    return(u,d)\n",
    "\n",
    "\n",
    "def Intrinsic(s,k,v1,v2,p,option):\n",
    "    if option == 'call':\n",
    "        v0 = max(0,s-k)\n",
    "        v1 = p*v1+(1-p)*v2\n",
    "    \n",
    "    if option == 'put':\n",
    "        v0 = max(0,k-s)\n",
    "        v1 = p*v1+(1-p)*v2\n",
    "        \n",
    "    v = max(v0,v1)\n",
    "    return v\n",
    "        \n",
    "def Tree(s0,k,m,u,d,p,option,call_layer,dividend):\n",
    "    \n",
    "    # Create a 2D array for st through all the path\n",
    "    rows, cols = (m+1, m+1)\n",
    "    \n",
    "    st = [[0 for i in range(cols)] for j in range(rows)] \n",
    "    st[0][0]=s0\n",
    "    for i in range(1,cols):\n",
    "        \n",
    "        # minus dividend\n",
    "        if i in list(dividend.keys()):\n",
    "            for r in range(i):\n",
    "                st[r][i-1]=st[r][i-1]*dividend[i]\n",
    "        else:\n",
    "            for r in range(i):\n",
    "                st[r][i-1]=st[r][i-1]\n",
    "        \n",
    "        \n",
    "        st[0][i]=st[0][i-1]*u\n",
    "        for j in range(1,i+1):\n",
    "            #st[j][i] = s0*u**(i-j)*d**j\n",
    "            st[j][i]=st[j-1][i-1]*d\n",
    "\n",
    "    \n",
    "    # Create a 2D array for vt through all the path\n",
    "    vt = [[0 for i in range(cols)] for j in range(rows)] \n",
    "    \n",
    "    # Calc option value for layer m-1:\n",
    "    for j in range(m+1):\n",
    "        vt[j][m]=Intrinsic(st[j][m],k,0,0,p,option)\n",
    "    \n",
    "    for i in range(m-1,-1,-1):\n",
    "        if i in call_layer:\n",
    "            for j in range(i+1):\n",
    "                vt[j][i] = Intrinsic(st[j][i],k,vt[j][i+1],vt[j+1][i+1],p,option)\n",
    "        else:\n",
    "            for j in range(i+1):\n",
    "                vt[j][i] = p*vt[j][i+1]+(1-p)*vt[j+1][i+1]         \n",
    "         \n",
    "    return vt[0][0]\n",
    "    #return vt"
   ]
  },
  {
   "cell_type": "code",
   "execution_count": 280,
   "metadata": {},
   "outputs": [],
   "source": [
    "s0=100\n",
    "sigma = 0.5\n",
    "dt = 0.01\n",
    "u,d = direction(dt)\n",
    "m = 100\n",
    "p=0.5\n",
    "k=100\n",
    "option = \"call\"\n",
    "#call_layer = []\n",
    "call_layer = [3,4,8,68,93,98]\n",
    "#dividend = {2:1,3:1}\n",
    "dividend = {2:0.98,10:0.98,90:0.98}"
   ]
  },
  {
   "cell_type": "code",
   "execution_count": 281,
   "metadata": {},
   "outputs": [
    {
     "data": {
      "text/plain": [
       "16.710121639179725"
      ]
     },
     "execution_count": 281,
     "metadata": {},
     "output_type": "execute_result"
    }
   ],
   "source": [
    "Tree(s0,k,m,u,d,p,option,call_layer,dividend)\n",
    "#print(pd.DataFrame(Tree(s0,k,m,u,d,p,option,call_layer,dividend)))"
   ]
  },
  {
   "cell_type": "code",
   "execution_count": null,
   "metadata": {},
   "outputs": [],
   "source": []
  }
 ],
 "metadata": {
  "kernelspec": {
   "display_name": "Python 3",
   "language": "python",
   "name": "python3"
  },
  "language_info": {
   "codemirror_mode": {
    "name": "ipython",
    "version": 3
   },
   "file_extension": ".py",
   "mimetype": "text/x-python",
   "name": "python",
   "nbconvert_exporter": "python",
   "pygments_lexer": "ipython3",
   "version": "3.8.5"
  }
 },
 "nbformat": 4,
 "nbformat_minor": 4
}
