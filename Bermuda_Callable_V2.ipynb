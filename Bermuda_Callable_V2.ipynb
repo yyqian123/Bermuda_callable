{
 "cells": [
  {
   "cell_type": "code",
   "execution_count": 34,
   "metadata": {},
   "outputs": [],
   "source": [
    "import pandas as pd\n",
    "import numpy as np\n",
    "from math import exp, log, sqrt, pi\n",
    "import matplotlib.pyplot as plt\n",
    "from scipy.stats import norm\n",
    "import time"
   ]
  },
  {
   "cell_type": "code",
   "execution_count": 50,
   "metadata": {},
   "outputs": [],
   "source": [
    "def direction(dt):\n",
    "    u = np.exp(sigma*sqrt(dt) - 0.5*sigma*sigma*dt)\n",
    "    d = np.exp(-sigma*sqrt(dt) - 0.5*sigma*sigma*dt)\n",
    "    return(u,d)\n",
    "\n",
    "\n",
    "def Intrinsic(s,k,v1,v2,p,div,option):\n",
    "    if option == 'call':\n",
    "        v0 = max(0,s-div-k)\n",
    "        v1 = p*v1+(1-p)*v2\n",
    "    \n",
    "    if option == 'put':\n",
    "        v0 = max(0,k-s-div)\n",
    "        v1 = p*v1+(1-p)*v2\n",
    "        \n",
    "    v = max(v0,v1)\n",
    "    return v\n",
    "        \n",
    "def Tree(s0,k,m,u,d,p,dividend,option,call_layer):\n",
    "    \n",
    "    # Create a 2D array for st through all the path\n",
    "    rows, cols = (m+1, m+1) \n",
    "    st = [[0 for i in range(cols)] for j in range(rows)] \n",
    "    for i in range(cols):\n",
    "        for j in range(i+1):\n",
    "            st[j][i] = s0*u**(i-j)*d**j\n",
    "\n",
    "    \n",
    "    # Create a 2D array for vt through all the path\n",
    "    vt = [[0 for i in range(cols)] for j in range(rows)] \n",
    "    # Calc option value for layer m-1:\n",
    "    for j in range(m+1):\n",
    "        div = sum(dividend.values())\n",
    "        vt[j][m]=Intrinsic(st[j][m],k,0,0,p,div,option)\n",
    "    \n",
    " \n",
    "    for i in range(m-1,-1,-1):\n",
    "        if i in call_layer:\n",
    "            \n",
    "            div = 0\n",
    "            for c in list(dividend.keys()):\n",
    "                if c < i:\n",
    "                    div = div + dividend[c]\n",
    "                else:\n",
    "                    div = div\n",
    "            for j in range(i+1):\n",
    "                vt[j][i] = Intrinsic(st[j][i],k,vt[j][i+1],vt[j+1][i+1],p,div,option)\n",
    "        else:\n",
    "            for j in range(i+1):\n",
    "                vt[j][i] = p*vt[j][i+1]+(1-p)*vt[j+1][i+1]         \n",
    "            \n",
    "    return vt[0][0]"
   ]
  },
  {
   "cell_type": "code",
   "execution_count": 53,
   "metadata": {},
   "outputs": [],
   "source": [
    "s0=100\n",
    "sigma = 0.5\n",
    "dt = 0.01\n",
    "u,d = direction(dt)\n",
    "m = 100\n",
    "p=0.5\n",
    "k=100\n",
    "option = \"call\"\n",
    "#call_layer = []\n",
    "call_layer = [3,4,8,68,93,98]\n",
    "dividend = {2:0.5,10:0.5,90:0.5}"
   ]
  },
  {
   "cell_type": "code",
   "execution_count": 54,
   "metadata": {},
   "outputs": [
    {
     "data": {
      "text/plain": [
       "19.203999147042566"
      ]
     },
     "execution_count": 54,
     "metadata": {},
     "output_type": "execute_result"
    }
   ],
   "source": [
    "Tree(s0,k,m,u,d,p,dividend,option,call_layer)"
   ]
  },
  {
   "cell_type": "code",
   "execution_count": null,
   "metadata": {},
   "outputs": [],
   "source": [
    "17.46222648540885"
   ]
  }
 ],
 "metadata": {
  "kernelspec": {
   "display_name": "Python 3",
   "language": "python",
   "name": "python3"
  },
  "language_info": {
   "codemirror_mode": {
    "name": "ipython",
    "version": 3
   },
   "file_extension": ".py",
   "mimetype": "text/x-python",
   "name": "python",
   "nbconvert_exporter": "python",
   "pygments_lexer": "ipython3",
   "version": "3.8.5"
  }
 },
 "nbformat": 4,
 "nbformat_minor": 4
}
